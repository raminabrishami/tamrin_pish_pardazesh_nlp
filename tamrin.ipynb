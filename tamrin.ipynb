{
 "cells": [
  {
   "cell_type": "code",
   "execution_count": 1,
   "id": "00790a3e",
   "metadata": {},
   "outputs": [
    {
     "name": "stderr",
     "output_type": "stream",
     "text": [
      "[nltk_data] Downloading package punkt to\n",
      "[nltk_data]     C:\\Users\\mahnaz\\AppData\\Roaming\\nltk_data...\n",
      "[nltk_data]   Package punkt is already up-to-date!\n",
      "[nltk_data] Downloading package stopwords to\n",
      "[nltk_data]     C:\\Users\\mahnaz\\AppData\\Roaming\\nltk_data...\n",
      "[nltk_data]   Package stopwords is already up-to-date!\n",
      "[nltk_data] Downloading package wordnet to\n",
      "[nltk_data]     C:\\Users\\mahnaz\\AppData\\Roaming\\nltk_data...\n",
      "[nltk_data]   Package wordnet is already up-to-date!\n",
      "[nltk_data] Downloading package wordnet to\n",
      "[nltk_data]     C:\\Users\\mahnaz\\AppData\\Roaming\\nltk_data...\n",
      "[nltk_data]   Package wordnet is already up-to-date!\n",
      "[nltk_data] Downloading package omw-1.4 to\n",
      "[nltk_data]     C:\\Users\\mahnaz\\AppData\\Roaming\\nltk_data...\n",
      "[nltk_data]   Package omw-1.4 is already up-to-date!\n"
     ]
    }
   ],
   "source": [
    "import nltk\n",
    "nltk.download('punkt')\n",
    "from nltk.tokenize import sent_tokenize, word_tokenize\n",
    "nltk.download(\"stopwords\")\n",
    "from nltk.corpus import stopwords\n",
    "from nltk.tokenize import word_tokenize\n",
    "from nltk.stem import PorterStemmer\n",
    "nltk.download('wordnet')\n",
    "from nltk.stem import WordNetLemmatizer\n",
    "nltk.download('wordnet')\n",
    "nltk.download('omw-1.4')\n",
    "from nltk.stem import WordNetLemmatizer"
   ]
  },
  {
   "cell_type": "code",
   "execution_count": 21,
   "id": "55142785",
   "metadata": {},
   "outputs": [],
   "source": [
    "def pish_par_stemm(matn_vorodi,matn_khoroji):\n",
    "    \n",
    "    matn = open(matn_vorodi, \"r\")\n",
    "    \n",
    "    matn_asli=matn.read()\n",
    "    \n",
    "    words = word_tokenize(matn_asli)\n",
    "    \n",
    "    stop_words = set(stopwords.words(\"english\"))\n",
    "    \n",
    "    matn_baad_pardazesh_stopw=[]\n",
    "    \n",
    "    for i in words:\n",
    "        if i.casefold() not in stop_words:\n",
    "            matn_baad_pardazesh_stopw.append(i)\n",
    "        \n",
    "    stemmer = PorterStemmer()\n",
    "    \n",
    "    stemmed_words=[]\n",
    "    \n",
    "    for i in matn_baad_pardazesh_stopw:\n",
    "        stemmed=stemmer.stem(i)\n",
    "        stemmed_words.append(stemmed)\n",
    "        \n",
    "    mix_stemm_words=stemmed_words[0]\n",
    "    \n",
    "    x=len(stemmed_words)\n",
    "    \n",
    "    for i in range(1,x-1):\n",
    "        mix_stemm_words=mix_stemm_words+' '+stemmed_words[i+1]\n",
    "    \n",
    "    with open (matn_khoroji, \"a\") as file:\n",
    "        User_input = file.write(mix_stemm_words)\n",
    "    \n",
    "    print('ok done')\n",
    "    \n"
   ]
  },
  {
   "cell_type": "code",
   "execution_count": 19,
   "id": "525b746d",
   "metadata": {},
   "outputs": [],
   "source": [
    "def pish_par_lemmatiz(matn_vorodi,matn_khoroji):\n",
    "    \n",
    "    matn = open(matn_vorodi, \"r\")\n",
    "    \n",
    "    matn_asli=matn.read()\n",
    "    \n",
    "    words = word_tokenize(matn_asli)\n",
    "    \n",
    "    stop_words = set(stopwords.words(\"english\"))\n",
    "    \n",
    "    matn_baad_pardazesh_stopw=[]\n",
    "    \n",
    "    for i in words:\n",
    "        if i.casefold() not in stop_words:\n",
    "            matn_baad_pardazesh_stopw.append(i)\n",
    "        \n",
    "    lemmatizer = WordNetLemmatizer()\n",
    "    \n",
    "    lemmatized_words=[]\n",
    "    \n",
    "    for j in matn_baad_pardazesh_stopw:\n",
    "        lemmatized=lemmatizer.lemmatize(j)\n",
    "        lemmatized_words.append(lemmatized)\n",
    "\n",
    "        \n",
    "    mix_lemmatized_words=lemmatized_words[0]\n",
    "    \n",
    "    x=len(lemmatized_words)\n",
    "    \n",
    "    for i in range(1,x-1):\n",
    "        mix_lemmatized_words=mix_lemmatized_words+' '+lemmatized_words[i+1]\n",
    "    \n",
    "\n",
    "    with open (matn_khoroji, \"a\") as file:\n",
    "        User_input = file.write(mix_lemmatized_words)\n",
    "    \n",
    "    print('ok done')\n"
   ]
  },
  {
   "cell_type": "code",
   "execution_count": 23,
   "id": "0730ffe7",
   "metadata": {},
   "outputs": [
    {
     "name": "stdout",
     "output_type": "stream",
     "text": [
      "please enter first file text locationD://textt.txt\n",
      "please enter secend file text locationD://textt3.txt\n",
      "ok done\n"
     ]
    }
   ],
   "source": [
    "x=input('please Enter the location of the file to be read')\n",
    "c=input('please Enter the location of the file to be written')\n",
    "pish_par_lemmatiz(x,c)"
   ]
  },
  {
   "cell_type": "code",
   "execution_count": null,
   "id": "8358125d",
   "metadata": {},
   "outputs": [],
   "source": []
  }
 ],
 "metadata": {
  "kernelspec": {
   "display_name": "Python 3 (ipykernel)",
   "language": "python",
   "name": "python3"
  },
  "language_info": {
   "codemirror_mode": {
    "name": "ipython",
    "version": 3
   },
   "file_extension": ".py",
   "mimetype": "text/x-python",
   "name": "python",
   "nbconvert_exporter": "python",
   "pygments_lexer": "ipython3",
   "version": "3.9.13"
  }
 },
 "nbformat": 4,
 "nbformat_minor": 5
}
